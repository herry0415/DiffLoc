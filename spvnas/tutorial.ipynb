{
 "cells": [
  {
   "cell_type": "markdown",
   "metadata": {},
   "source": [
    "# Searching Efficient 3D Architectures with Sparse Point-Voxel Convolution"
   ]
  },
  {
   "cell_type": "markdown",
   "metadata": {},
   "source": [
    "In this tutorial, we will introduce how to efficiently segment LiDAR point clouds with our pre-trained SPVNAS."
   ]
  },
  {
   "cell_type": "markdown",
   "metadata": {},
   "source": [
    "Let's first clone the codebase:"
   ]
  },
  {
   "cell_type": "code",
   "execution_count": 1,
   "metadata": {},
   "outputs": [],
   "source": [
    "# !git clone https://github.com/mit-han-lab/spvnas.git\n",
    "\n",
    "import os\n",
    "import sys\n",
    "sys.path.append(os.path.join(os.getcwd(), 'spvnas'))"
   ]
  },
  {
   "cell_type": "markdown",
   "metadata": {},
   "source": [
    "Let's then install some libraries. This step might take around 5 minutes on Google Colab."
   ]
  },
  {
   "cell_type": "code",
   "execution_count": 2,
   "metadata": {},
   "outputs": [
    {
     "name": "stdout",
     "output_type": "stream",
     "text": [
      "[sudo] password for lw: \n"
     ]
    }
   ],
   "source": [
    "!sudo apt-get install libsparsehash-dev 1>/dev/null\n",
    "!pip install --upgrade plotly 1>/dev/null\n",
    "!pip install --upgrade torchpack 1>/dev/null\n",
    "!pip install --upgrade git+https://github.com/mit-han-lab/torchsparse.git 1>/dev/null"
   ]
  },
  {
   "cell_type": "markdown",
   "metadata": {},
   "source": [
    "Let's import some libraries and define constants for visualization:"
   ]
  },
  {
   "cell_type": "code",
   "execution_count": null,
   "metadata": {},
   "outputs": [],
   "source": [
    "import numpy as np\n",
    "\n",
    "import torch\n",
    "from torchsparse import SparseTensor\n",
    "from torchsparse.utils.quantize import sparse_quantize\n",
    "from torchsparse.utils.collate import sparse_collate\n",
    "\n",
    "COLOR_MAP = np.array(['#f59664', '#f5e664', '#963c1e', '#b41e50', '#ff0000',\n",
    "                      '#1e1eff', '#c828ff', '#5a1e96', '#ff00ff', '#ff96ff',\n",
    "                      '#4b004b', '#4b00af', '#00c8ff', '#3278ff', '#00af00',\n",
    "                      '#003c87', '#50f096', '#96f0ff', '#0000ff', '#ffffff'])\n",
    "\n",
    "LABEL_MAP = np.array([19, 19, 19, 19, 19, 19, 19, 19, 19, 19, 0, 1, 19,\n",
    "                      19, 19, 2, 19, 19, 3, 19, 4, 19, 19, 19, 19, 19,\n",
    "                      19, 19, 19, 19, 5, 6, 7, 19, 19, 19, 19, 19, 19,\n",
    "                      19, 8, 19, 19, 19, 9, 19, 19, 19, 10, 11, 12, 13,\n",
    "                      19, 19, 19, 19, 19, 19, 19, 19, 19, 19, 19, 19, 19,\n",
    "                      19, 19, 19, 19, 19, 14, 15, 16, 19, 19, 19, 19, 19,\n",
    "                      19, 19, 17, 18, 19, 19, 19, 19, 19, 19, 19, 19, 19,\n",
    "                      19, 19, 19, 19, 19, 19, 19, 19, 19, 19, 19, 19, 19,\n",
    "                      19, 19, 19, 19, 19, 19, 19, 19, 19, 19, 19, 19, 19,\n",
    "                      19, 19, 19, 19, 19, 19, 19, 19, 19, 19, 19, 19, 19,\n",
    "                      19, 19, 19, 19, 19, 19, 19, 19, 19, 19, 19, 19, 19,\n",
    "                      19, 19, 19, 19, 19, 19, 19, 19, 19, 19, 19, 19, 19,\n",
    "                      19, 19, 19, 19, 19, 19, 19, 19, 19, 19, 19, 19, 19,\n",
    "                      19, 19, 19, 19, 19, 19, 19, 19, 19, 19, 19, 19, 19,\n",
    "                      19, 19, 19, 19, 19, 19, 19, 19, 19, 19, 19, 19, 19,\n",
    "                      19, 19, 19, 19, 19, 19, 19, 19, 19, 19, 19, 19, 19,\n",
    "                      19, 19, 19, 19, 19, 19, 19, 19, 19, 19, 19, 19, 19,\n",
    "                      19, 19, 19, 19, 19, 19, 19, 19, 19, 19, 19, 19, 19,\n",
    "                      19, 19, 19, 19, 19, 19, 19, 19, 19, 19, 19, 19, 19,\n",
    "                      19, 19, 19, 19, 19, 19, 19, 19, 19, 19, 19, 19, 19])"
   ]
  },
  {
   "cell_type": "markdown",
   "metadata": {},
   "source": [
    "Let's load some real lidar data and pre-process it for inference."
   ]
  },
  {
   "cell_type": "markdown",
   "metadata": {},
   "source": [
    "Now, we import the pretrained SPVNAS from our model zoo to run the inference."
   ]
  },
  {
   "cell_type": "code",
   "execution_count": null,
   "metadata": {},
   "outputs": [],
   "source": [
    "from model_zoo import spvnas_specialized\n",
    "\n",
    "# Load the pre-trained model from model zoo\n",
    "model = spvnas_specialized('SemanticKITTI_val_SPVNAS@65GMACs').cuda()\n",
    "model.eval()\n",
    "\n",
    "# Run the inference\n",
    "outputs = model(inputs)\n",
    "outputs = outputs.argmax(1).cpu().numpy()\n",
    "\n",
    "# Map the prediction back to original points\n",
    "outputs = outputs[inverse]"
   ]
  },
  {
   "cell_type": "markdown",
   "metadata": {},
   "source": [
    "Finally, we visualize the predictions from SPVNAS in an interactive window. Enjoy!"
   ]
  }
 ],
 "metadata": {
  "kernelspec": {
   "display_name": "Python 3",
   "language": "python",
   "name": "python3"
  },
  "language_info": {
   "codemirror_mode": {
    "name": "ipython",
    "version": 3
   },
   "file_extension": ".py",
   "mimetype": "text/x-python",
   "name": "python",
   "nbconvert_exporter": "python",
   "pygments_lexer": "ipython3",
   "version": "3.7.16"
  }
 },
 "nbformat": 4,
 "nbformat_minor": 2
}
